{
 "cells": [
  {
   "cell_type": "code",
   "execution_count": 2,
   "metadata": {},
   "outputs": [
    {
     "name": "stdout",
     "output_type": "stream",
     "text": [
      "Jika suatu benda 'p' adalah Mobil, benda itu memiliki Roda 'q', bernilai benar\n",
      "Diketahui Benda 'p' adalah mobil\n",
      "Maka bisa disimpulkan bahwa benda tersebut tidak memiliki roda\n",
      "\n",
      "p = Mobil\n",
      "~p = Bukan Mobil\n",
      "q = Roda\n",
      "~q = Tidak ber-roda\n",
      "Keterangan : pengambilan kesimpulan sudah 'tepat'\n",
      "Modus Ponens\n"
     ]
    }
   ],
   "source": [
    "if __name__ == \"__main__\":\n",
    "    \n",
    "    tuple_proposisi = ('p->q', 'p')\n",
    "\n",
    "    tabel_kebenaran = [\n",
    "        {'p': True, 'q': True, 'p->q': True},\n",
    "        {'p': True, 'q': False, 'p->q': False},\n",
    "        {'p': False, 'q': True, 'p->q': True},\n",
    "        {'p': False, 'q': False, 'p->q': True}\n",
    "    ]\n",
    "\n",
    "    def filter_truth_table(tabel_kebenaran, proposisi, nilai_proposisi):\n",
    "        new_tabel_kebenaran = []\n",
    "        #proses\n",
    "        #new_tabel_kebenaran.append()\n",
    "        for i in tabel_kebenaran:\n",
    "            if i[proposisi] == nilai_proposisi:\n",
    "                new_tabel_kebenaran.append(i)\n",
    "        return new_tabel_kebenaran\n",
    "    \n",
    "    def ambil_nilai_truth_table(tabel_kebenaran, prop):\n",
    "        new_nilai_proposisi = []\n",
    "\n",
    "        for i in tabel_kebenaran:\n",
    "            new_nilai_proposisi.append(i[proposisi])\n",
    "\n",
    "        return new_nilai_proposisi\n",
    "\n",
    "    tabel_kebenaran_current = tabel_kebenaran\n",
    "\n",
    "    tabel_kebenaran_current = filter_truth_table(tabel_kebenaran_current, 'p', True)\n",
    "    tabel_kebenaran_current = filter_truth_table(tabel_kebenaran_current, 'p->q', True)\n",
    "    \n",
    "    proposisi = ' __bukan_string_kosong__ '\n",
    "\n",
    "    proposisi = 'q'\n",
    "    tabel_kebenaran_simpen = ambil_nilai_truth_table(tabel_kebenaran_current, proposisi)\n",
    "    \n",
    "    print(\"Jika suatu benda 'p' adalah Mobil, benda itu memiliki Roda 'q', bernilai benar\")\n",
    "    print(\"Diketahui Benda 'p' adalah mobil\")\n",
    "    \n",
    "    if 'p' != True and 'p->q':\n",
    "        print(\"Maka bisa disimpulkan bahwa benda tersebut tidak memiliki roda\")\n",
    "    else:\n",
    "        print(\"Maka bisa disimpulkan bahwa benda tersebut memiliki roda\")\n",
    "    \n",
    "    print(\"\")\n",
    "    print(\"p = Mobil\")\n",
    "    print(\"~p = Bukan Mobil\")\n",
    "    print(\"q = Roda\")\n",
    "    print(\"~q = Tidak ber-roda\")\n",
    "    \n",
    "    print(\"Keterangan : pengambilan kesimpulan sudah 'tepat'\")\n",
    "    \n",
    "    print(\"Modus Ponens\")"
   ]
  },
  {
   "cell_type": "code",
   "execution_count": null,
   "metadata": {},
   "outputs": [],
   "source": []
  }
 ],
 "metadata": {
  "kernelspec": {
   "display_name": "Python 3",
   "language": "python",
   "name": "python3"
  },
  "language_info": {
   "codemirror_mode": {
    "name": "ipython",
    "version": 3
   },
   "file_extension": ".py",
   "mimetype": "text/x-python",
   "name": "python",
   "nbconvert_exporter": "python",
   "pygments_lexer": "ipython3",
   "version": "3.8.1"
  }
 },
 "nbformat": 4,
 "nbformat_minor": 4
}
