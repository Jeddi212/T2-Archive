{
 "cells": [
  {
   "cell_type": "code",
   "execution_count": 5,
   "metadata": {},
   "outputs": [
    {
     "data": {
      "text/plain": [
       "[{'p': True, 'q': True, 'p->q': True},\n",
       " {'p': True, 'q': False, 'p->q': False},\n",
       " {'p': False, 'q': True, 'p->q': True},\n",
       " {'p': False, 'q': False, 'p->q': True}]"
      ]
     },
     "execution_count": 5,
     "metadata": {},
     "output_type": "execute_result"
    }
   ],
   "source": [
    "tuple_proposisi = ('p', 'q', 'p->q')\n",
    "\n",
    "tabel_kebenaran = [\n",
    "    {'p': True, 'q': True, 'p->q': True},\n",
    "    {'p': True, 'q': False, 'p->q': False},\n",
    "    {'p': False, 'q': True, 'p->q': True},\n",
    "    {'p': False, 'q': False, 'p->q': True}\n",
    "]\n",
    "tabel_kebenaran"
   ]
  },
  {
   "cell_type": "code",
   "execution_count": 16,
   "metadata": {},
   "outputs": [],
   "source": [
    "def ambil_nilai_truth_table(tabel_kebenaran, proposisi):\n",
    "    new_nilai_proposisi = []\n",
    "    \n",
    "    for i in tabel_kebenaran:\n",
    "        new_nilai_proposisi.append(i[proposisi])\n",
    "        \n",
    "    return new_nilai_proposisi"
   ]
  },
  {
   "cell_type": "code",
   "execution_count": 17,
   "metadata": {},
   "outputs": [
    {
     "name": "stdout",
     "output_type": "stream",
     "text": [
      "[True, True, False, False]\n"
     ]
    }
   ],
   "source": [
    "tabel_kebenaran_ambil = ambil_nilai_truth_table(tabel_kebenaran, 'p')\n",
    "print(tabel_kebenaran_ambil)"
   ]
  },
  {
   "cell_type": "code",
   "execution_count": 19,
   "metadata": {},
   "outputs": [
    {
     "name": "stdout",
     "output_type": "stream",
     "text": [
      "[True, False, True, False]\n"
     ]
    }
   ],
   "source": [
    "tabel_kebenaran_ambil_2 = ambil_nilai_truth_table(tabel_kebenaran, 'q')\n",
    "print(tabel_kebenaran_ambil_2)"
   ]
  },
  {
   "cell_type": "code",
   "execution_count": 18,
   "metadata": {},
   "outputs": [
    {
     "name": "stdout",
     "output_type": "stream",
     "text": [
      "[True, False, True, True]\n"
     ]
    }
   ],
   "source": [
    "tabel_kebenaran_ambil_3 = ambil_nilai_truth_table(tabel_kebenaran, 'p->q')\n",
    "print(tabel_kebenaran_ambil_3)"
   ]
  },
  {
   "cell_type": "code",
   "execution_count": null,
   "metadata": {},
   "outputs": [],
   "source": []
  }
 ],
 "metadata": {
  "kernelspec": {
   "display_name": "Python 3",
   "language": "python",
   "name": "python3"
  },
  "language_info": {
   "codemirror_mode": {
    "name": "ipython",
    "version": 3
   },
   "file_extension": ".py",
   "mimetype": "text/x-python",
   "name": "python",
   "nbconvert_exporter": "python",
   "pygments_lexer": "ipython3",
   "version": "3.8.1"
  }
 },
 "nbformat": 4,
 "nbformat_minor": 4
}
