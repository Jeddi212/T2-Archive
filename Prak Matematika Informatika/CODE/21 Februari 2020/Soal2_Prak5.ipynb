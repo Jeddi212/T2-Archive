{
 "cells": [
  {
   "cell_type": "code",
   "execution_count": 1,
   "metadata": {},
   "outputs": [
    {
     "name": "stdout",
     "output_type": "stream",
     "text": [
      "Apakah kamu tau, bahwa kamu tidak tau kalau aku tidak  tau bawah kamu juga tidak tau kalau aku tau kamu tidak tau ?\n",
      " \n",
      "Jawabannya ?  Ijja\n",
      "\n",
      "Jawabannya ?  Iyaa\n",
      "\n",
      "Jawabannya ?  IY\n",
      "\n",
      "Jawabannya ?  \n",
      "\n",
      "Jawabannya ?  Iya\n",
      "Mantull!!!\n"
     ]
    }
   ],
   "source": [
    "if __name__ == \"__main__\":\n",
    "    \n",
    "    String_pertanyaan = \"Apakah kamu tau, bahwa kamu tidak tau kalau aku tidak  tau bawah kamu juga tidak tau kalau aku tau kamu tidak tau ?\"\n",
    "    String_jawaban_benar = \"Iya\";\n",
    "    \n",
    "    print(String_pertanyaan)\n",
    "    print(\" \")\n",
    "    \n",
    "    while (True):    \n",
    "        jawab = input(\"Jawabannya ?  \")\n",
    "        \n",
    "        berhasil = None\n",
    "        mau_lanjut = None\n",
    "        \n",
    "        if jawab == String_jawaban_benar:\n",
    "            berhasil = True\n",
    "            print(\"Mantull!!!\")\n",
    "        else:\n",
    "            mau_lanjut = True\n",
    "        \n",
    "        if not(not(berhasil)) or not(mau_lanjut):\n",
    "            break;\n",
    "        \n",
    "        print(\"\")"
   ]
  }
 ],
 "metadata": {
  "kernelspec": {
   "display_name": "Python 3",
   "language": "python",
   "name": "python3"
  },
  "language_info": {
   "codemirror_mode": {
    "name": "ipython",
    "version": 3
   },
   "file_extension": ".py",
   "mimetype": "text/x-python",
   "name": "python",
   "nbconvert_exporter": "python",
   "pygments_lexer": "ipython3",
   "version": "3.8.1"
  }
 },
 "nbformat": 4,
 "nbformat_minor": 4
}
