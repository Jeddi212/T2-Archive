{
 "cells": [
  {
   "cell_type": "code",
   "execution_count": 32,
   "metadata": {},
   "outputs": [
    {
     "name": "stdout",
     "output_type": "stream",
     "text": [
      "Boleh Ujian : \n",
      "NIM       Kumpul Tugas Besar  Ketidakhadiran \n",
      "13519002  1                   2              \n",
      "13519005  1                   0              \n",
      "13519006  1                   0              \n",
      "13519007  1                   1              \n",
      "\n",
      "Tidak Boleh Ujian 1: \n",
      "NIM       Kumpul Tugas Besar  Ketidakhadiran \n",
      "13519001  1                   4              \n",
      "13519003  0                   3              \n",
      "13519004  0                   0              \n",
      "\n",
      "Tidak Boleh Ujian 2: \n",
      "NIM       Kumpul Tugas Besar  Ketidakhadiran \n",
      "13519001  1                   4              \n",
      "13519003  0                   3              \n",
      "13519004  0                   0              \n",
      "\n",
      "Tidak Boleh Ujian 3: \n",
      "NIM       Kumpul Tugas Besar  Ketidakhadiran \n",
      "13519001  1                   4              \n",
      "13519003  0                   3              \n",
      "13519004  0                   0              \n"
     ]
    }
   ],
   "source": [
    "if __name__ == \"__main__\":\n",
    "    \n",
    "    list_siswa = [ \n",
    "        {'nim': '13519001', 'kumpul_tugas': True, 'tidak_hadir': 4},\n",
    "        {'nim': '13519002', 'kumpul_tugas': True, 'tidak_hadir': 2},\n",
    "        {'nim': '13519003', 'kumpul_tugas': False, 'tidak_hadir': 3},\n",
    "        {'nim': '13519004', 'kumpul_tugas': False, 'tidak_hadir': 0},\n",
    "        {'nim': '13519005', 'kumpul_tugas': True, 'tidak_hadir': 0},\n",
    "        {'nim': '13519006', 'kumpul_tugas': True, 'tidak_hadir': 0},\n",
    "        {'nim': '13519007', 'kumpul_tugas': True, 'tidak_hadir': 1}\n",
    "    ]\n",
    "    \n",
    "    print(\"Boleh Ujian : \")\n",
    "    \n",
    "    print('{:<10}{:<20}{:<15}'.format(\"NIM\",\"Kumpul Tugas Besar\",\"Ketidakhadiran\"))\n",
    "    \n",
    "    for siswa in list_siswa:\n",
    "        if (siswa['kumpul_tugas'] == True) and (siswa['tidak_hadir'] < 3):\n",
    "            print('{:<10}{:<20}{:<15}'.format((siswa['nim']),(siswa['kumpul_tugas']),(siswa['tidak_hadir'])))\n",
    "            \n",
    "    print(\"\\nTidak Boleh Ujian 1: \")\n",
    "    \n",
    "    print('{:<10}{:<20}{:<15}'.format(\"NIM\",\"Kumpul Tugas Besar\",\"Ketidakhadiran\"))\n",
    "    \n",
    "    for siswa in list_siswa:\n",
    "        if not((siswa['kumpul_tugas'] == True) and (siswa['tidak_hadir'] < 3)):\n",
    "            print('{:<10}{:<20}{:<15}'.format((siswa['nim']),(siswa['kumpul_tugas']),(siswa['tidak_hadir'])))\n",
    "    \n",
    "    print(\"\\nTidak Boleh Ujian 2: \")\n",
    "    \n",
    "    print('{:<10}{:<20}{:<15}'.format(\"NIM\",\"Kumpul Tugas Besar\",\"Ketidakhadiran\"))\n",
    "    \n",
    "    for siswa in list_siswa:\n",
    "        if not(siswa['kumpul_tugas'] == True) or not(siswa['tidak_hadir'] < 3):\n",
    "            print('{:<10}{:<20}{:<15}'.format((siswa['nim']),(siswa['kumpul_tugas']),(siswa['tidak_hadir'])))\n",
    "            \n",
    "    print(\"\\nTidak Boleh Ujian 3: \")\n",
    "    \n",
    "    print('{:<10}{:<20}{:<15}'.format(\"NIM\",\"Kumpul Tugas Besar\",\"Ketidakhadiran\"))\n",
    "    \n",
    "    for siswa in list_siswa:\n",
    "        if (siswa['kumpul_tugas'] == False) or (siswa['tidak_hadir'] >= 3):\n",
    "            print('{:<10}{:<20}{:<15}'.format((siswa['nim']),(siswa['kumpul_tugas']),(siswa['tidak_hadir'])))\n",
    "            \n",
    "    print(\"\\nSemua Siswa : \")\n",
    "    \n",
    "    print('{:<10}{:<20}{:<15}'.format(\"NIM\",\"Kumpul Tugas Besar\",\"Ketidakhadiran\"))\n",
    "    \n",
    "    for siswa in list_siswa:\n",
    "        if (siswa['kumpul_tugas'] == False) or (siswa['tidak_hadir'] >= 3):\n",
    "            print('{:<10}{:<20}{:<15}'.format((siswa['nim']),(siswa['kumpul_tugas']),(siswa['tidak_hadir'])), end = \"\")\n",
    "            print(\"*\")\n",
    "        else:\n",
    "            print('{:<10}{:<20}{:<15}'.format((siswa['nim']),(siswa['kumpul_tugas']),(siswa['tidak_hadir'])))"
   ]
  },
  {
   "cell_type": "code",
   "execution_count": null,
   "metadata": {},
   "outputs": [],
   "source": []
  }
 ],
 "metadata": {
  "kernelspec": {
   "display_name": "Python 3",
   "language": "python",
   "name": "python3"
  },
  "language_info": {
   "codemirror_mode": {
    "name": "ipython",
    "version": 3
   },
   "file_extension": ".py",
   "mimetype": "text/x-python",
   "name": "python",
   "nbconvert_exporter": "python",
   "pygments_lexer": "ipython3",
   "version": "3.8.1"
  }
 },
 "nbformat": 4,
 "nbformat_minor": 4
}
