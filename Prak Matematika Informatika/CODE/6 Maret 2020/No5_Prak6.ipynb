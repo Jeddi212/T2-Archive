{
 "cells": [
  {
   "cell_type": "code",
   "execution_count": 10,
   "metadata": {},
   "outputs": [
    {
     "name": "stdout",
     "output_type": "stream",
     "text": [
      "1. not(p and q) :\n",
      " [False, True, True, True] \n",
      "\n",
      "ekuivalen dengan\n",
      "\n",
      "2. not(p) or not(q) :\n",
      " [False, True, True, True] \n",
      "\n",
      "3. not(p or q) :\n",
      " [False, False, False, True] \n",
      "\n",
      "ekuivalen dengan\n",
      "\n",
      "4. not(p) and not(q) :\n",
      " [False, False, False, True] \n",
      "\n"
     ]
    }
   ],
   "source": [
    "import random\n",
    "\n",
    "if __name__ == \"__main__\":\n",
    "        \n",
    "    list_pq_values = [\n",
    "        {'p':True, 'q':True},\n",
    "        {'p':True, 'q':False},\n",
    "        {'p':False, 'q':True},\n",
    "        {'p':False, 'q':False}\n",
    "    ]\n",
    "    \n",
    "    def get_result(list_pq_values, boolean_expression):\n",
    "        list_result = []\n",
    "        \n",
    "        for interpretasi in list_pq_values:\n",
    "            hasil = eval(boolean_expression, interpretasi)\n",
    "            list_result.append(hasil)\n",
    "        \n",
    "        return list_result\n",
    "    \n",
    "    hasil_List = get_result(list_pq_values, \"not(p and q)\")\n",
    "    print(\"1. not(p and q) :\\n\", hasil_List, \"\\n\")\n",
    "    \n",
    "    print(\"ekuivalen dengan\\n\")\n",
    "    \n",
    "    hasil_List = get_result(list_pq_values, \"not(p) or not(q)\")\n",
    "    print(\"2. not(p) or not(q) :\\n\", hasil_List, \"\\n\")\n",
    "    \n",
    "    ############################################################\n",
    "    \n",
    "    hasil_List = get_result(list_pq_values, \"not(p or q)\")\n",
    "    print(\"3. not(p or q) :\\n\", hasil_List, \"\\n\")\n",
    "    \n",
    "    print(\"ekuivalen dengan\\n\")\n",
    "    \n",
    "    hasil_List = get_result(list_pq_values, \"not(p) and not(q)\")\n",
    "    print(\"4. not(p) and not(q) :\\n\", hasil_List, \"\\n\")"
   ]
  }
 ],
 "metadata": {
  "kernelspec": {
   "display_name": "Python 3",
   "language": "python",
   "name": "python3"
  },
  "language_info": {
   "codemirror_mode": {
    "name": "ipython",
    "version": 3
   },
   "file_extension": ".py",
   "mimetype": "text/x-python",
   "name": "python",
   "nbconvert_exporter": "python",
   "pygments_lexer": "ipython3",
   "version": "3.8.1"
  }
 },
 "nbformat": 4,
 "nbformat_minor": 4
}
