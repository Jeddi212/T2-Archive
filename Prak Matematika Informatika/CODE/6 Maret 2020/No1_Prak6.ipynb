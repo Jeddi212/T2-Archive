{
 "cells": [
  {
   "cell_type": "code",
   "execution_count": 8,
   "metadata": {},
   "outputs": [
    {
     "ename": "SyntaxError",
     "evalue": "invalid syntax (<ipython-input-8-bbe529ca1b78>, line 10)",
     "output_type": "error",
     "traceback": [
      "\u001b[1;36m  File \u001b[1;32m\"<ipython-input-8-bbe529ca1b78>\"\u001b[1;36m, line \u001b[1;32m10\u001b[0m\n\u001b[1;33m    elif user == \"f\" or user == \"F\":\u001b[0m\n\u001b[1;37m    ^\u001b[0m\n\u001b[1;31mSyntaxError\u001b[0m\u001b[1;31m:\u001b[0m invalid syntax\n"
     ]
    }
   ],
   "source": [
    "if __name__ == \"__main__\":\n",
    "    \n",
    "    user = input(\"Masukkan input (t(T) / f(F)) : \")\n",
    "    boolean = None\n",
    "    \n",
    "    if user == \"t\" or user == \"T\":\n",
    "        boolean = True\n",
    "        reverseBool = not(boolean)\n",
    "        print(\"Negasi dari \" + str(boolean) + \" adalah \" + str(reverseBool))\n",
    "    elif user == \"f\" or user == \"F\":\n",
    "        boolean = False\n",
    "        reverseBool = not(boolean)\n",
    "        print(\"Negasi dari \" + str(boolean) + \" adalah \" + str(reverseBool))\n",
    "    else:\n",
    "        print(\"Input Tidak Valid\")\n",
    "    \n",
    "    "
   ]
  },
  {
   "cell_type": "code",
   "execution_count": null,
   "metadata": {},
   "outputs": [],
   "source": []
  }
 ],
 "metadata": {
  "kernelspec": {
   "display_name": "Python 3",
   "language": "python",
   "name": "python3"
  },
  "language_info": {
   "codemirror_mode": {
    "name": "ipython",
    "version": 3
   },
   "file_extension": ".py",
   "mimetype": "text/x-python",
   "name": "python",
   "nbconvert_exporter": "python",
   "pygments_lexer": "ipython3",
   "version": "3.8.1"
  }
 },
 "nbformat": 4,
 "nbformat_minor": 4
}
