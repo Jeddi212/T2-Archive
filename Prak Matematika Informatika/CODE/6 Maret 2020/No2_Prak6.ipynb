{
 "cells": [
  {
   "cell_type": "code",
   "execution_count": 20,
   "metadata": {},
   "outputs": [
    {
     "name": "stdout",
     "output_type": "stream",
     "text": [
      "p    q    p&q  ~q   p&q|~q \n",
      "True  True  True  False True    \n",
      "True  False False True  True    \n",
      "False True  False False False   \n",
      "False False False True  True    \n"
     ]
    }
   ],
   "source": [
    "if __name__ == \"__main__\":\n",
    "        \n",
    "    \n",
    "    print('{:<6}{:<6}{:<6}{:<6}{:<8}'.format(('p'), ('q'), ('p&q'), ('~q'), ('p&q|~q')))\n",
    "    \n",
    "    def cetak_baris(P, Q):\n",
    "        p_and_q = P and Q\n",
    "        negasi_q = not(Q)\n",
    "        full = (p_and_q) or (negasi_q)\n",
    "        print('{:<6}{:<6}{:<6}{:<6}{:<8}'.format((str(P)), (str(Q)), (str(p_and_q)), (str(negasi_q)), (str(full))))\n",
    "        \n",
    "    cetak_baris(True, True)\n",
    "    cetak_baris(True, False)\n",
    "    cetak_baris(False, True)\n",
    "    cetak_baris(False, False)\n"
   ]
  },
  {
   "cell_type": "code",
   "execution_count": null,
   "metadata": {},
   "outputs": [],
   "source": []
  }
 ],
 "metadata": {
  "kernelspec": {
   "display_name": "Python 3",
   "language": "python",
   "name": "python3"
  },
  "language_info": {
   "codemirror_mode": {
    "name": "ipython",
    "version": 3
   },
   "file_extension": ".py",
   "mimetype": "text/x-python",
   "name": "python",
   "nbconvert_exporter": "python",
   "pygments_lexer": "ipython3",
   "version": "3.8.1"
  }
 },
 "nbformat": 4,
 "nbformat_minor": 4
}
