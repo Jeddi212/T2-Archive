{
 "cells": [
  {
   "cell_type": "code",
   "execution_count": 3,
   "metadata": {},
   "outputs": [
    {
     "name": "stdout",
     "output_type": "stream",
     "text": [
      "Masukkan operator (and / or / xor): and\n",
      "p     q     p^q     \n",
      "1     1     1       \n",
      "1     0     0       \n",
      "0     1     0       \n",
      "0     0     0       \n"
     ]
    }
   ],
   "source": [
    "if __name__ == \"__main__\":\n",
    "        \n",
    "    list_pq_values = [\n",
    "        (True, True), \n",
    "        (True, False), \n",
    "        (False, True), \n",
    "        (False, False) \n",
    "    ] \n",
    "    \n",
    "    user = input(\"Masukkan operator (and / or / xor): \")\n",
    "    \n",
    "    print('{:<6}{:<6}{:<8}'.format(('p'), ('q'), ('p^q')))\n",
    "    \n",
    "    if user == \"and\" or user == \"or\" or user == \"xor\":\n",
    "        for interpretasi in list_pq_values:\n",
    "            P = interpretasi[0]\n",
    "            Q = interpretasi[1]\n",
    "\n",
    "            if user == \"and\":\n",
    "                PQ = interpretasi[0] and interpretasi[1]\n",
    "            elif user == \"or\":\n",
    "                PQ = interpretasi[0] or interpretasi[1]\n",
    "            elif user == \"xor\":\n",
    "                PQ = interpretasi[0] ^ interpretasi[1]\n",
    "\n",
    "            print('{:<6}{:<6}{:<8}'.format((str(P)), (str(Q)), (str(PQ))))\n",
    "    else:\n",
    "        print(\"Input Tidak Valid\")\n"
   ]
  },
  {
   "cell_type": "code",
   "execution_count": null,
   "metadata": {},
   "outputs": [],
   "source": []
  }
 ],
 "metadata": {
  "kernelspec": {
   "display_name": "Python 3",
   "language": "python",
   "name": "python3"
  },
  "language_info": {
   "codemirror_mode": {
    "name": "ipython",
    "version": 3
   },
   "file_extension": ".py",
   "mimetype": "text/x-python",
   "name": "python",
   "nbconvert_exporter": "python",
   "pygments_lexer": "ipython3",
   "version": "3.8.1"
  }
 },
 "nbformat": 4,
 "nbformat_minor": 4
}
