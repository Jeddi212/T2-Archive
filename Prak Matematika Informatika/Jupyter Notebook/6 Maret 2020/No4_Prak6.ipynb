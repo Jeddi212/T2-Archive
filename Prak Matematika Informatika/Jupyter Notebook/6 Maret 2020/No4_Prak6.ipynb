{
 "cells": [
  {
   "cell_type": "code",
   "execution_count": 2,
   "metadata": {},
   "outputs": [
    {
     "name": "stdout",
     "output_type": "stream",
     "text": [
      "p:  False\n",
      "q:  False\n",
      "p or q = ?\n",
      "Jawaban anda benar\n",
      "\n",
      "Input Tidak VALID\n"
     ]
    }
   ],
   "source": [
    "import random\n",
    "\n",
    "if __name__ == \"__main__\":\n",
    "        \n",
    "    list_val = [True, False]\n",
    "    list_operator = ['and', 'or', 'xor']\n",
    "    \n",
    "    found = True\n",
    "    while found:\n",
    "        random_val_p = random.choice(list_val)\n",
    "        random_val_q = random.choice(list_val)\n",
    "        random_operator = random.choice(list_operator)\n",
    "        \n",
    "        print(\"p: \", random_val_p)\n",
    "        print(\"q: \", random_val_q)\n",
    "        \n",
    "        if random_operator == 'and':\n",
    "            question = random_val_p and random_val_q\n",
    "        elif random_operator == 'or':\n",
    "            question = random_val_p or random_val_q\n",
    "        elif random_operator == 'xor':\n",
    "            question = random_val_p ^ random_val_q\n",
    "        \n",
    "        print(\"p \" + random_operator + \" q = ?\", end=\"\")\n",
    "        \n",
    "        user = input(\"\")\n",
    "        \n",
    "        if user == \"True\" or user == \"true\":\n",
    "            jawaban = True\n",
    "        elif user == \"False\" or user == \"false\":\n",
    "            jawaban = False\n",
    "        else:\n",
    "            found = False\n",
    "            \n",
    "        \n",
    "        if jawaban == question:\n",
    "            print(\"Jawaban anda benar\")\n",
    "        else:\n",
    "            print(\"Jawaban anda salah\")\n",
    "        \n",
    "        print(\"\")\n",
    "\n",
    "    if not(found):\n",
    "        print(\"Input Tidak VALID\")"
   ]
  },
  {
   "cell_type": "code",
   "execution_count": null,
   "metadata": {},
   "outputs": [],
   "source": []
  }
 ],
 "metadata": {
  "kernelspec": {
   "display_name": "Python 3",
   "language": "python",
   "name": "python3"
  },
  "language_info": {
   "codemirror_mode": {
    "name": "ipython",
    "version": 3
   },
   "file_extension": ".py",
   "mimetype": "text/x-python",
   "name": "python",
   "nbconvert_exporter": "python",
   "pygments_lexer": "ipython3",
   "version": "3.8.1"
  }
 },
 "nbformat": 4,
 "nbformat_minor": 4
}
