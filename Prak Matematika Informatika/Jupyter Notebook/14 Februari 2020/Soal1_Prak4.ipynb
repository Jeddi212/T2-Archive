{
 "cells": [
  {
   "cell_type": "code",
   "execution_count": 4,
   "metadata": {},
   "outputs": [],
   "source": [
    "tuple_proposisi = ('p', 'q', 'p->q')\n",
    "\n",
    "tabel_kebenaran = [\n",
    "    {'p': True, 'q': True, 'p->q': True},\n",
    "    {'p': True, 'q': False, 'p->q': False},\n",
    "    {'p': False, 'q': True, 'p->q': True},\n",
    "    {'p': False, 'q': False, 'p->q': True}\n",
    "]"
   ]
  },
  {
   "cell_type": "code",
   "execution_count": 10,
   "metadata": {},
   "outputs": [
    {
     "name": "stdout",
     "output_type": "stream",
     "text": [
      "[{'p': True, 'q': True, 'p->q': True}, {'p': True, 'q': False, 'p->q': False}]\n"
     ]
    }
   ],
   "source": [
    "def filter_truth_table(tabel_kebenaran, proposisi, nilai_proposisi):\n",
    "    new_tabel_kebenaran = []\n",
    "    #proses\n",
    "    #new_tabel_kebenaran.append()\n",
    "    for i in tabel_kebenaran:\n",
    "        if i[proposisi] == nilai_proposisi:\n",
    "            new_tabel_kebenaran.append(i)\n",
    "    return new_tabel_kebenaran"
   ]
  },
  {
   "cell_type": "code",
   "execution_count": 15,
   "metadata": {},
   "outputs": [
    {
     "name": "stdout",
     "output_type": "stream",
     "text": [
      "[{'p': True, 'q': True, 'p->q': True}, {'p': True, 'q': False, 'p->q': False}]\n"
     ]
    }
   ],
   "source": [
    "tabel_kebenaran_2 = filter_truth_table(tabel_kebenaran, 'p', True)\n",
    "print(tabel_kebenaran_2)"
   ]
  },
  {
   "cell_type": "code",
   "execution_count": 13,
   "metadata": {},
   "outputs": [
    {
     "name": "stdout",
     "output_type": "stream",
     "text": [
      "[{'p': True, 'q': False, 'p->q': False}]\n"
     ]
    }
   ],
   "source": [
    "tabel_kebenaran_3 = filter_truth_table(tabel_kebenaran_2, 'q', False)\n",
    "print(tabel_kebenaran_3)"
   ]
  },
  {
   "cell_type": "code",
   "execution_count": 14,
   "metadata": {},
   "outputs": [
    {
     "name": "stdout",
     "output_type": "stream",
     "text": [
      "[{'p': True, 'q': True, 'p->q': True}, {'p': False, 'q': True, 'p->q': True}, {'p': False, 'q': False, 'p->q': True}]\n"
     ]
    }
   ],
   "source": [
    "tabel_kebenaran_4 = filter_truth_table(tabel_kebenaran, 'p->q', True)\n",
    "print(tabel_kebenaran_4)\n"
   ]
  },
  {
   "cell_type": "code",
   "execution_count": null,
   "metadata": {},
   "outputs": [],
   "source": []
  }
 ],
 "metadata": {
  "kernelspec": {
   "display_name": "Python 3",
   "language": "python",
   "name": "python3"
  },
  "language_info": {
   "codemirror_mode": {
    "name": "ipython",
    "version": 3
   },
   "file_extension": ".py",
   "mimetype": "text/x-python",
   "name": "python",
   "nbconvert_exporter": "python",
   "pygments_lexer": "ipython3",
   "version": "3.8.1"
  }
 },
 "nbformat": 4,
 "nbformat_minor": 4
}
