{
 "cells": [
  {
   "cell_type": "code",
   "execution_count": 1,
   "metadata": {},
   "outputs": [
    {
     "name": "stdout",
     "output_type": "stream",
     "text": [
      "Proposisi: p\n",
      "[True, True, False, False]\n",
      "Proposisi: q\n",
      "[True, False, True, False]\n",
      "Proposisi: t\n",
      "Terima Kasih Sudah Menggunakan Program Kami\n",
      "Proposisi: p\n",
      "[True, True, False, False]\n",
      "Proposisi: p\n",
      "[True, True, False, False]\n",
      "Proposisi: p\n",
      "[True, True, False, False]\n",
      "Proposisi: q\n",
      "[True, False, True, False]\n",
      "Proposisi: t\n",
      "Terima Kasih Sudah Menggunakan Program Kami\n",
      "Proposisi: \n",
      "Terima Kasih Sudah Menggunakan Program Kami\n"
     ]
    }
   ],
   "source": [
    "tuple_proposisi = ('p', 'q', 'p->q')\n",
    "\n",
    "tabel_kebenaran = [\n",
    "    {'p': True, 'q': True, 'p->q': True},\n",
    "    {'p': True, 'q': False, 'p->q': False},\n",
    "    {'p': False, 'q': True, 'p->q': True},\n",
    "    {'p': False, 'q': False, 'p->q': True}\n",
    "]\n",
    "\n",
    "def ambil_nilai_truth_table(tabel_kebenaran, prop):\n",
    "    new_nilai_proposisi = []\n",
    "    \n",
    "    for i in tabel_kebenaran:\n",
    "        new_nilai_proposisi.append(i[proposisi])\n",
    "        \n",
    "    return new_nilai_proposisi\n",
    "\n",
    "proposisi = ' __bukan_string_kosong__ '\n",
    "while proposisi != '':\n",
    "    \n",
    "    proposisi = input(\"Proposisi: \")\n",
    "    if proposisi == \"p\":\n",
    "        tabel_kebenaran_simpen = ambil_nilai_truth_table(tabel_kebenaran, proposisi)\n",
    "        print(tabel_kebenaran_simpen)\n",
    "    elif proposisi == \"q\":\n",
    "        tabel_kebenaran_simpen = ambil_nilai_truth_table(tabel_kebenaran, proposisi)\n",
    "        print(tabel_kebenaran_simpen)\n",
    "    elif proposisi == \"p->q\":\n",
    "        tabel_kebenaran_simpen = ambil_nilai_truth_table(tabel_kebenaran, proposisi)\n",
    "        print(tabel_kebenaran_simpen)\n",
    "    else:\n",
    "        print(\"Terima Kasih Sudah Menggunakan Program Kami\")\n",
    "    \n",
    "    "
   ]
  },
  {
   "cell_type": "code",
   "execution_count": null,
   "metadata": {},
   "outputs": [],
   "source": []
  }
 ],
 "metadata": {
  "kernelspec": {
   "display_name": "Python 3",
   "language": "python",
   "name": "python3"
  },
  "language_info": {
   "codemirror_mode": {
    "name": "ipython",
    "version": 3
   },
   "file_extension": ".py",
   "mimetype": "text/x-python",
   "name": "python",
   "nbconvert_exporter": "python",
   "pygments_lexer": "ipython3",
   "version": "3.8.1"
  }
 },
 "nbformat": 4,
 "nbformat_minor": 4
}
