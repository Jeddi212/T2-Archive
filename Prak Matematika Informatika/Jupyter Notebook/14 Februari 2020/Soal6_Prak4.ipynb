{
 "cells": [
  {
   "cell_type": "code",
   "execution_count": 2,
   "metadata": {},
   "outputs": [
    {
     "name": "stdout",
     "output_type": "stream",
     "text": [
      "Masukkan Input Value q: t\n",
      "Masukkan Input Value p->q: t\n",
      "~q    # jika q salah\n",
      "p->q # dan p implikasi q benar\n",
      "-------------------------------\n",
      "~p    # bisa disimpulkan bahwa p bernilai [True, False]\n"
     ]
    }
   ],
   "source": [
    "if __name__ == \"__main__\":\n",
    "    \n",
    "    tuple_proposisi = ('q', 'p->q')\n",
    "\n",
    "    tabel_kebenaran = [\n",
    "        {'p': True, 'q': True, 'p->q': True},\n",
    "        {'p': True, 'q': False, 'p->q': False},\n",
    "        {'p': False, 'q': True, 'p->q': True},\n",
    "        {'p': False, 'q': False, 'p->q': True}\n",
    "    ]\n",
    "\n",
    "    def filter_truth_table(tabel_kebenaran, proposisi, nilai_proposisi):\n",
    "        new_tabel_kebenaran = []\n",
    "        #proses\n",
    "        #new_tabel_kebenaran.append()\n",
    "        for i in tabel_kebenaran:\n",
    "            if i[proposisi] == nilai_proposisi:\n",
    "                new_tabel_kebenaran.append(i)\n",
    "        return new_tabel_kebenaran\n",
    "    \n",
    "    def ambil_nilai_truth_table(tabel_kebenaran, prop):\n",
    "        new_nilai_proposisi = []\n",
    "\n",
    "        for i in tabel_kebenaran:\n",
    "            new_nilai_proposisi.append(i[proposisi])\n",
    "\n",
    "        return new_nilai_proposisi\n",
    "\n",
    "    tabel_kebenaran_current = tabel_kebenaran\n",
    "    for i in tuple_proposisi:\n",
    "        prop_Value = input(\"Masukkan Input Value \" + i + \": \")\n",
    "        if prop_Value == '':\n",
    "            pass\n",
    "        elif prop_Value == 't':\n",
    "            tabel_kebenaran_current = filter_truth_table(tabel_kebenaran_current, i, True)\n",
    "        else:\n",
    "            tabel_kebenaran_current = filter_truth_table(tabel_kebenaran_current, i, False)\n",
    "    \n",
    "    proposisi = ' __bukan_string_kosong__ '\n",
    "\n",
    "    proposisi = 'p'\n",
    "    tabel_kebenaran_simpen = ambil_nilai_truth_table(tabel_kebenaran_current, proposisi)\n",
    "    print(\"~q    # jika q salah\")\n",
    "    print(\"p->q # dan p implikasi q benar\")\n",
    "    print(\"-------------------------------\")\n",
    "    print(\"~\", end = \"\")\n",
    "    print(proposisi ,end=\"\")\n",
    "    print(\"    # bisa disimpulkan bahwa \" ,end=\"\")\n",
    "    print(proposisi ,end=\"\")\n",
    "    print(\" bernilai \" ,end=\"\")\n",
    "    print(tabel_kebenaran_simpen)\n",
    "    "
   ]
  },
  {
   "cell_type": "code",
   "execution_count": null,
   "metadata": {},
   "outputs": [],
   "source": []
  }
 ],
 "metadata": {
  "kernelspec": {
   "display_name": "Python 3",
   "language": "python",
   "name": "python3"
  },
  "language_info": {
   "codemirror_mode": {
    "name": "ipython",
    "version": 3
   },
   "file_extension": ".py",
   "mimetype": "text/x-python",
   "name": "python",
   "nbconvert_exporter": "python",
   "pygments_lexer": "ipython3",
   "version": "3.8.1"
  }
 },
 "nbformat": 4,
 "nbformat_minor": 4
}
