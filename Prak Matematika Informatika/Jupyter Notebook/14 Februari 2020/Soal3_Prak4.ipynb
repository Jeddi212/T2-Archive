{
 "cells": [
  {
   "cell_type": "code",
   "execution_count": null,
   "metadata": {},
   "outputs": [],
   "source": [
    "tuple_proposisi = ('p', 'q', 'p->q')\n",
    "\n",
    "tabel_kebenaran = [\n",
    "    {'p': True, 'q': True, 'p->q': True},\n",
    "    {'p': True, 'q': False, 'p->q': False},\n",
    "    {'p': False, 'q': True, 'p->q': True},\n",
    "    {'p': False, 'q': False, 'p->q': True}\n",
    "]"
   ]
  },
  {
   "cell_type": "code",
   "execution_count": null,
   "metadata": {},
   "outputs": [],
   "source": [
    "def filter_truth_table(tabel_kebenaran, proposisi, nilai_proposisi):\n",
    "    new_tabel_kebenaran = []\n",
    "    #proses\n",
    "    #new_tabel_kebenaran.append()\n",
    "    for i in tabel_kebenaran:\n",
    "        if i[proposisi] == nilai_proposisi:\n",
    "            new_tabel_kebenaran.append(i)\n",
    "    return new_tabel_kebenaran"
   ]
  },
  {
   "cell_type": "code",
   "execution_count": null,
   "metadata": {},
   "outputs": [],
   "source": [
    "tabel_kebenaran_current = tabel_kebenaran\n",
    "for i in tuple_proposisi:\n",
    "    prop_Value = input(\"Masukkan Input Value \" + i + \": \")\n",
    "    if prop_Value == '':\n",
    "        pass\n",
    "    elif prop_Value == 't':\n",
    "        tabel_kebenaran_current = filter_truth_table(tabel_kebenaran_current, i, True)\n",
    "    else:\n",
    "        tabel_kebenaran_current = filter_truth_table(tabel_kebenaran_current, i, False)\n",
    "    print(tabel_kebenaran_current)"
   ]
  },
  {
   "cell_type": "code",
   "execution_count": null,
   "metadata": {},
   "outputs": [],
   "source": []
  },
  {
   "cell_type": "code",
   "execution_count": null,
   "metadata": {},
   "outputs": [],
   "source": []
  },
  {
   "cell_type": "code",
   "execution_count": null,
   "metadata": {},
   "outputs": [],
   "source": []
  }
 ],
 "metadata": {
  "kernelspec": {
   "display_name": "Python 3",
   "language": "python",
   "name": "python3"
  },
  "language_info": {
   "codemirror_mode": {
    "name": "ipython",
    "version": 3
   },
   "file_extension": ".py",
   "mimetype": "text/x-python",
   "name": "python",
   "nbconvert_exporter": "python",
   "pygments_lexer": "ipython3",
   "version": "3.8.1"
  }
 },
 "nbformat": 4,
 "nbformat_minor": 4
}
