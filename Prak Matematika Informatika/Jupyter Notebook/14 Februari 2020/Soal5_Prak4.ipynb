{
 "cells": [
  {
   "cell_type": "code",
   "execution_count": 12,
   "metadata": {},
   "outputs": [
    {
     "name": "stdout",
     "output_type": "stream",
     "text": [
      "Masukkan Input Value p: t\n",
      "Masukkan Input Value p->q: t\n",
      "p    # jika p benar\n",
      "p->q # dan p implikasi q benar\n",
      "-------------------------------\n",
      "q    # bisa disimpulkan bahwa q bernilai [True]\n"
     ]
    }
   ],
   "source": [
    "if __name__ == \"__main__\":\n",
    "    \n",
    "    tuple_proposisi = ('p', 'p->q')\n",
    "\n",
    "    tabel_kebenaran = [\n",
    "        {'p': True, 'q': True, 'p->q': True},\n",
    "        {'p': True, 'q': False, 'p->q': False},\n",
    "        {'p': False, 'q': True, 'p->q': True},\n",
    "        {'p': False, 'q': False, 'p->q': True}\n",
    "    ]\n",
    "\n",
    "    def filter_truth_table(tabel_kebenaran, proposisi, nilai_proposisi):\n",
    "        new_tabel_kebenaran = []\n",
    "        #proses\n",
    "        #new_tabel_kebenaran.append()\n",
    "        for i in tabel_kebenaran:\n",
    "            if i[proposisi] == nilai_proposisi:\n",
    "                new_tabel_kebenaran.append(i)\n",
    "        return new_tabel_kebenaran\n",
    "    \n",
    "    def ambil_nilai_truth_table(tabel_kebenaran, prop):\n",
    "        new_nilai_proposisi = []\n",
    "\n",
    "        for i in tabel_kebenaran:\n",
    "            new_nilai_proposisi.append(i[proposisi])\n",
    "\n",
    "        return new_nilai_proposisi\n",
    "\n",
    "    tabel_kebenaran_current = tabel_kebenaran\n",
    "    for i in tuple_proposisi:\n",
    "        prop_Value = input(\"Masukkan Input Value \" + i + \": \")\n",
    "        if prop_Value == '':\n",
    "            pass\n",
    "        elif prop_Value == 't':\n",
    "            tabel_kebenaran_current = filter_truth_table(tabel_kebenaran_current, i, True)\n",
    "        else:\n",
    "            tabel_kebenaran_current = filter_truth_table(tabel_kebenaran_current, i, False)\n",
    "    \n",
    "    proposisi = ' __bukan_string_kosong__ '\n",
    "\n",
    "    proposisi = 'q'\n",
    "    tabel_kebenaran_simpen = ambil_nilai_truth_table(tabel_kebenaran_current, proposisi)\n",
    "    \n",
    "    print(\"p    # jika p benar\")\n",
    "    print(\"p->q # dan p implikasi q benar\")\n",
    "    print(\"-------------------------------\")\n",
    "    print(proposisi ,end=\"\")\n",
    "    print(\"    # bisa disimpulkan bahwa \" ,end=\"\")\n",
    "    print(proposisi ,end=\"\")\n",
    "    print(\" bernilai \" ,end=\"\")\n",
    "    print(tabel_kebenaran_simpen)\n",
    "    "
   ]
  },
  {
   "cell_type": "code",
   "execution_count": null,
   "metadata": {},
   "outputs": [],
   "source": []
  }
 ],
 "metadata": {
  "kernelspec": {
   "display_name": "Python 3",
   "language": "python",
   "name": "python3"
  },
  "language_info": {
   "codemirror_mode": {
    "name": "ipython",
    "version": 3
   },
   "file_extension": ".py",
   "mimetype": "text/x-python",
   "name": "python",
   "nbconvert_exporter": "python",
   "pygments_lexer": "ipython3",
   "version": "3.8.1"
  }
 },
 "nbformat": 4,
 "nbformat_minor": 4
}
